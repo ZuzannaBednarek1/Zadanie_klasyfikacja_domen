{
 "cells": [
  {
   "cell_type": "code",
   "execution_count": 1,
   "metadata": {},
   "outputs": [],
   "source": [
    "import pandas as pd\n",
    "import numpy as np\n",
    "import ipaddress\n",
    "from sklearn.preprocessing import LabelEncoder\n",
    "import seaborn as sns\n",
    "import matplotlib as plt"
   ]
  },
  {
   "cell_type": "markdown",
   "metadata": {},
   "source": [
    "Wczytanie danych."
   ]
  },
  {
   "cell_type": "code",
   "execution_count": 2,
   "metadata": {},
   "outputs": [],
   "source": [
    "df1 = pd.read_csv(\"CSV_benign.csv\", engine = 'python')\n",
    "df2 = pd.read_csv(\"CSV_malware.csv\", engine = 'python')"
   ]
  },
  {
   "cell_type": "markdown",
   "metadata": {},
   "source": [
    "Ustawienie labeli, które domeny są bezpieczne (0), a które nie (1)."
   ]
  },
  {
   "cell_type": "code",
   "execution_count": 3,
   "metadata": {},
   "outputs": [],
   "source": [
    "df2['Label'] = 1\n",
    "df1['Label'] = 0"
   ]
  },
  {
   "cell_type": "code",
   "execution_count": 4,
   "metadata": {},
   "outputs": [],
   "source": [
    "df = pd.concat([df1, df2])"
   ]
  },
  {
   "cell_type": "code",
   "execution_count": 5,
   "metadata": {},
   "outputs": [
    {
     "data": {
      "text/plain": [
       "0    98.998465\n",
       "1     1.001535\n",
       "Name: Label, dtype: float64"
      ]
     },
     "execution_count": 5,
     "metadata": {},
     "output_type": "execute_result"
    }
   ],
   "source": [
    "df['Label'].value_counts(normalize=True)* 100"
   ]
  },
  {
   "cell_type": "markdown",
   "metadata": {},
   "source": [
    "Ok. 99% rekordów stanowią domeny bezpieczne, a 1% to domeny niebezpieczne."
   ]
  },
  {
   "cell_type": "code",
   "execution_count": 6,
   "metadata": {},
   "outputs": [
    {
     "data": {
      "text/plain": [
       "Index(['Country', 'ASN', 'TTL', 'IP', 'Domain', 'State', 'Registrant_Name',\n",
       "       'Country.1', 'Creation_Date_Time', 'hex_32', 'hex_8', 'Domain_Name',\n",
       "       'Alexa_Rank', 'subdomain', 'Organization', 'len', 'longest_word',\n",
       "       'oc_32', 'shortened', '1gram', 'obfuscate_at_sign', 'entropy',\n",
       "       'Domain_Age', 'tld', 'dec_8', 'dec_32', 'Emails', 'numeric_percentage',\n",
       "       'puny_coded', 'typos', 'oc_8', '3gram', 'char_distribution', '2gram',\n",
       "       'Registrar', 'sld', 'Name_Server_Count', 'Page_Rank', 'Label'],\n",
       "      dtype='object')"
      ]
     },
     "execution_count": 6,
     "metadata": {},
     "output_type": "execute_result"
    }
   ],
   "source": [
    "df.columns"
   ]
  },
  {
   "cell_type": "markdown",
   "metadata": {},
   "source": [
    "Sprawdzanie typów danych w poszczególnych kolumnach."
   ]
  },
  {
   "cell_type": "code",
   "execution_count": 7,
   "metadata": {},
   "outputs": [
    {
     "name": "stdout",
     "output_type": "stream",
     "text": [
      "<class 'pandas.core.frame.DataFrame'>\n",
      "Int64Index: 499134 entries, 0 to 4998\n",
      "Data columns (total 39 columns):\n",
      " #   Column              Non-Null Count   Dtype  \n",
      "---  ------              --------------   -----  \n",
      " 0   Country             389247 non-null  object \n",
      " 1   ASN                 389304 non-null  float64\n",
      " 2   TTL                 499134 non-null  object \n",
      " 3   IP                  390538 non-null  object \n",
      " 4   Domain              499134 non-null  object \n",
      " 5   State               220137 non-null  object \n",
      " 6   Registrant_Name     13710 non-null   object \n",
      " 7   Country.1           256983 non-null  object \n",
      " 8   Creation_Date_Time  366046 non-null  object \n",
      " 9   hex_32              499011 non-null  object \n",
      " 10  hex_8               499134 non-null  object \n",
      " 11  Domain_Name         401406 non-null  object \n",
      " 12  Alexa_Rank          444716 non-null  object \n",
      " 13  subdomain           499118 non-null  object \n",
      " 14  Organization        204029 non-null  object \n",
      " 15  len                 498776 non-null  object \n",
      " 16  longest_word        499001 non-null  object \n",
      " 17  oc_32               499131 non-null  object \n",
      " 18  shortened           497789 non-null  object \n",
      " 19  1gram               499112 non-null  object \n",
      " 20  obfuscate_at_sign   499134 non-null  object \n",
      " 21  entropy             499130 non-null  object \n",
      " 22  Domain_Age          444720 non-null  object \n",
      " 23  tld                 499131 non-null  object \n",
      " 24  dec_8               499124 non-null  object \n",
      " 25  dec_32              499040 non-null  object \n",
      " 26  Emails              326900 non-null  object \n",
      " 27  numeric_percentage  498345 non-null  object \n",
      " 28  puny_coded          499134 non-null  object \n",
      " 29  typos               499134 non-null  object \n",
      " 30  oc_8                499134 non-null  object \n",
      " 31  3gram               499134 non-null  object \n",
      " 32  char_distribution   499134 non-null  object \n",
      " 33  2gram               498947 non-null  object \n",
      " 34  Registrar           357895 non-null  object \n",
      " 35  sld                 497805 non-null  object \n",
      " 36  Name_Server_Count   444680 non-null  object \n",
      " 37  Page_Rank           444217 non-null  float64\n",
      " 38  Label               499134 non-null  int64  \n",
      "dtypes: float64(2), int64(1), object(36)\n",
      "memory usage: 152.3+ MB\n"
     ]
    }
   ],
   "source": [
    "df.info()"
   ]
  },
  {
   "cell_type": "markdown",
   "metadata": {},
   "source": [
    "Sprawdzanie, które kolumny posiadają puste wartości. Jeżeli jest ich zbyt wiele - usuwamy kolumnę."
   ]
  },
  {
   "cell_type": "code",
   "execution_count": 8,
   "metadata": {},
   "outputs": [
    {
     "data": {
      "text/plain": [
       "Country               109887\n",
       "ASN                   109830\n",
       "TTL                        0\n",
       "IP                    108596\n",
       "Domain                     0\n",
       "State                 278997\n",
       "Registrant_Name       485424\n",
       "Country.1             242151\n",
       "Creation_Date_Time    133088\n",
       "hex_32                   123\n",
       "hex_8                      0\n",
       "Domain_Name            97728\n",
       "Alexa_Rank             54418\n",
       "subdomain                 16\n",
       "Organization          295105\n",
       "len                      358\n",
       "longest_word             133\n",
       "oc_32                      3\n",
       "shortened               1345\n",
       "1gram                     22\n",
       "obfuscate_at_sign          0\n",
       "entropy                    4\n",
       "Domain_Age             54414\n",
       "tld                        3\n",
       "dec_8                     10\n",
       "dec_32                    94\n",
       "Emails                172234\n",
       "numeric_percentage       789\n",
       "puny_coded                 0\n",
       "typos                      0\n",
       "oc_8                       0\n",
       "3gram                      0\n",
       "char_distribution          0\n",
       "2gram                    187\n",
       "Registrar             141239\n",
       "sld                     1329\n",
       "Name_Server_Count      54454\n",
       "Page_Rank              54917\n",
       "Label                      0\n",
       "dtype: int64"
      ]
     },
     "execution_count": 8,
     "metadata": {},
     "output_type": "execute_result"
    }
   ],
   "source": [
    "df.isna().sum()"
   ]
  },
  {
   "cell_type": "markdown",
   "metadata": {},
   "source": [
    "Wyświetlenie najczęściej pojawiających się wartości w każdej z kolumn."
   ]
  },
  {
   "cell_type": "code",
   "execution_count": 9,
   "metadata": {},
   "outputs": [
    {
     "name": "stdout",
     "output_type": "stream",
     "text": [
      "Top 10 values in Country:\n",
      "US    209425\n",
      "DE     22829\n",
      "CN     19368\n",
      "FR     13021\n",
      "RU     12759\n",
      "VG     12015\n",
      "GB     10392\n",
      "NL      8280\n",
      "CA      7799\n",
      "JP      4581\n",
      "Name: Country, dtype: int64\n",
      "\n",
      "Top 10 values in ASN:\n",
      "13335.0    48930\n",
      "16509.0    21925\n",
      "14618.0    13629\n",
      "40034.0    12972\n",
      "26496.0    10904\n",
      "16276.0    10454\n",
      "15169.0     8985\n",
      "24940.0     7743\n",
      "46606.0     7302\n",
      "14061.0     6498\n",
      "Name: ASN, dtype: int64\n",
      "\n",
      "Top 10 values in TTL:\n",
      "299      127653\n",
      "3599      77050\n",
      "599       49387\n",
      "14399     40654\n",
      "21599     35589\n",
      "59        23026\n",
      "7199      18805\n",
      "1799      12254\n",
      "899       11596\n",
      "10799      7240\n",
      "Name: TTL, dtype: int64\n",
      "\n",
      "Top 10 values in IP:\n",
      "208.91.197.26      2980\n",
      "208.91.197.25      2142\n",
      "208.91.197.23      1303\n",
      "208.91.197.127     1298\n",
      "208.91.197.24      1274\n",
      "184.168.131.241     988\n",
      "208.91.197.128      917\n",
      "23.227.38.32        914\n",
      "61.164.149.197      899\n",
      "204.11.56.48        656\n",
      "Name: IP, dtype: int64\n",
      "\n",
      "Top 10 values in Domain:\n",
      "b'www.hugedomains.com.'              502\n",
      "b'stopnote.vhostgo.com.'             156\n",
      "b'www.xooit.com.'                    146\n",
      "b'www.google.com.'                   144\n",
      "b'www.facebook.com.'                 134\n",
      "b'secure.jbs.elsevierhealth.com.'    122\n",
      "b'id.elsevier.com.'                  106\n",
      "b'www.gov.uk.'                        84\n",
      "b'suspendeddomain.org.'               80\n",
      "b'www.youtube.com.'                   74\n",
      "Name: Domain, dtype: int64\n",
      "\n",
      "Top 10 values in State:\n",
      "Arizona                 20812\n",
      "Panama                  10159\n",
      "REDACTED FOR PRIVACY     9502\n",
      "CA                       9449\n",
      "California               7262\n",
      "WA                       6014\n",
      "FL                       5317\n",
      "CO                       4680\n",
      "NY                       4589\n",
      "AZ                       4571\n",
      "Name: State, dtype: int64\n",
      "\n",
      "Top 10 values in Registrant_Name:\n",
      "REDACTED FOR PRIVACY    1312\n",
      "UK Cabinet Office        770\n",
      "The JNT Association      619\n",
      "WhoisGuard inc.          255\n",
      "Zaini Bawi               195\n",
      "Registration Private     181\n",
      "WhoisGuard Protected     132\n",
      "DANESCO TRADING LTD      119\n",
      "Domains By Proxy         112\n",
      "Ddmitry Davids            88\n",
      "Name: Registrant_Name, dtype: int64\n",
      "\n",
      "Top 10 values in Country.1:\n",
      "US                      113254\n",
      "CN                       20366\n",
      "PA                       10327\n",
      "GB                        9158\n",
      "REDACTED FOR PRIVACY      8499\n",
      "CA                        7852\n",
      "FR                        7608\n",
      "IN                        5567\n",
      "BR                        5222\n",
      "DE                        4653\n",
      "Name: Country.1, dtype: int64\n",
      "\n",
      "Top 10 values in Creation_Date_Time:\n",
      "before Aug-1996        2843\n",
      "2003-10-31 19:24:33     481\n",
      "1991-01-01 00:00:00     244\n",
      "2018-12-26 02:40:22     219\n",
      "1997-03-29 05:00:00     213\n",
      "1996-01-29 00:00:00     208\n",
      "2003-03-17 12:20:05     193\n",
      "1994-12-31 23:00:00     191\n",
      "1995-07-29 04:00:00     186\n",
      "1997-09-15 04:00:00     178\n",
      "Name: Creation_Date_Time, dtype: int64\n",
      "\n",
      "Top 10 values in hex_32:\n",
      "0                      493748\n",
      "0                        4999\n",
      "1999-07-28 11:43:14         6\n",
      "2006-03-23 12:00:53         6\n",
      "2018-08-05 09:44:21         5\n",
      "2007-07-09 16:16:23         5\n",
      "1                           5\n",
      "2017-10-14 06:01:42         5\n",
      "2013-10-24 14:32:57         4\n",
      "2013-10-10 17:03:18         4\n",
      "Name: hex_32, dtype: int64\n",
      "\n",
      "Top 10 values in hex_8:\n",
      "0                         494108\n",
      "0                           4999\n",
      "0Admin-SMOLENSK.RU             6\n",
      "['amac.us', 'AMAC.US']         2\n",
      "0Adminn.cn                     2\n",
      "0Administrator.de              2\n",
      "0AdminSTATION.RU               2\n",
      "0AdminXCHANGE.COM              1\n",
      "0AdminSUHONOY.RU               1\n",
      "0Adminico.nl                   1\n",
      "Name: hex_8, dtype: int64\n",
      "\n",
      "Top 10 values in Domain_Name:\n",
      "gov.uk                            770\n",
      "ac.uk                             619\n",
      "HUGEDOMAINS.COM                   481\n",
      "0                                 382\n",
      "FACEBOOK.COM                      184\n",
      "['VHOSTGO.COM', 'vhostgo.com']    178\n",
      "TIMEWEB.RU                        134\n",
      "ELSEVIER.COM                      123\n",
      "ELSEVIERHEALTH.COM                122\n",
      "edu.tw                             79\n",
      "Name: Domain_Name, dtype: int64\n",
      "\n",
      "Top 10 values in Alexa_Rank:\n",
      "-1.0       147128\n",
      "-1.0         3708\n",
      "2384.0        232\n",
      "4.0           182\n",
      "1.0           110\n",
      "50757.0        72\n",
      "2315.0         61\n",
      "5838.0         56\n",
      "52.0           50\n",
      "50777.0        48\n",
      "Name: Alexa_Rank, dtype: int64\n",
      "\n",
      "Top 10 values in subdomain:\n",
      "0                                                              321364\n",
      "1                                                              153271\n",
      "0.0                                                             13362\n",
      "1.0                                                              5627\n",
      "0                                                                3055\n",
      "1                                                                1944\n",
      "-1.0                                                              134\n",
      "163226.0                                                            6\n",
      "Department Cmolenskoy field of information technology               6\n",
      "1Administracion General de La Comunidad Autonoma de Euskadi         6\n",
      "Name: subdomain, dtype: int64\n",
      "\n",
      "Top 10 values in Organization:\n",
      "REDACTED FOR PRIVACY                     24059\n",
      "Domains By Proxy                         19748\n",
      "WhoisGuard inc.                           9556\n",
      "See PrivacyGuardian.org                   3882\n",
      "Whois Privacy Service                     3032\n",
      "DATA REDACTED                             2562\n",
      "Domain Protection Services inc.           2402\n",
      "Privacy Protect                           2222\n",
      "GDPR Masked                               1459\n",
      "Whois Privacy Protection Service inc.     1395\n",
      "Name: Organization, dtype: int64\n",
      "\n",
      "Top 10 values in len:\n",
      "10      39879\n",
      "11      39171\n",
      "9       38668\n",
      "8       36571\n",
      "12      35997\n",
      "7       32714\n",
      "13      32708\n",
      "14      29139\n",
      "15      25301\n",
      " LLC    23754\n",
      "Name: len, dtype: int64\n",
      "\n",
      "Top 10 values in longest_word:\n",
      "12        2728\n",
      "13        2705\n",
      "11        2578\n",
      "10        2378\n",
      "9         2372\n",
      "14        2345\n",
      "15        2181\n",
      "8         2143\n",
      "online    1926\n",
      "16        1857\n",
      "Name: longest_word, dtype: int64\n",
      "\n",
      "Top 10 values in oc_32:\n",
      "0         446633\n",
      "0.0        16372\n",
      "0           4998\n",
      "online       203\n",
      "-1.0         177\n",
      "s            171\n",
      "1            121\n",
      "canada       104\n",
      "outlet        91\n",
      "news          89\n",
      "Name: oc_32, dtype: int64\n",
      "\n",
      "Top 10 values in shortened:\n",
      "-1.0                                                  461809\n",
      "0                                                      29474\n",
      "-1.0                                                    4938\n",
      "0.0                                                     1388\n",
      "['t', 'a', 'x', 'a', 'd', 'm', 'i', 'n']                   8\n",
      "['e', 'u', 's', 'k', 'a', 'd', 'i']                        7\n",
      "['a', 'e', 'r', 'o', 'a', 'd', 'm', 'i', 'n']              6\n",
      "['a', 'd', 'm', 'i', 'n']                                  5\n",
      "['s', 'u', 'k', 'h', 'u', 'm', 'c', 'i', 't', 'y']         4\n",
      "['a', 'd', 'm', 'i', 'n', 'l', 't', 'e']                   4\n",
      "Name: shortened, dtype: int64\n",
      "\n",
      "Top 10 values in 1gram:\n",
      "-1.0                                                       30829\n",
      "['g', 'o', 'o', 'g', 'l', 'e']                              1010\n",
      "['h', 'u', 'g', 'e', 'd', 'o', 'm', 'a', 'i', 'n', 's']      504\n",
      "['w', 'w', 'w']                                              229\n",
      "['f', 'a', 'c', 'e', 'b', 'o', 'o', 'k']                     200\n",
      "['y', 'a', 'h', 'o', 'o']                                    199\n",
      "['v', 'h', 'o', 's', 't', 'g', 'o']                          179\n",
      "0                                                            177\n",
      "['u', 's']                                                   158\n",
      "['b', 'e', 'e', 'g']                                         150\n",
      "Name: 1gram, dtype: int64\n",
      "\n",
      "Top 10 values in obfuscate_at_sign:\n",
      "0                                                                                                                 446724\n",
      "0.0                                                                                                                16372\n",
      "0                                                                                                                   4999\n",
      "['l', 'a', 'w']                                                                                                       38\n",
      "['p', 'r', 'i', 'n', 't', '-', 'e', 's', 'h', 'o', 'p']                                                               31\n",
      "['c', 'h', 'i', 'c', 'a', 'g', 'o', 't', 'r', 'i', 'b', 'u', 'n', 'e']                                                24\n",
      "['g', 'b', 'c', 'i', 'n', 't', 'e', 'r', 'n', 'e', 't', 'e', 'n', 'f', 'o', 'r', 'c', 'e', 'm', 'e', 'n', 't']        20\n",
      "['k', 'i', 's', 'k', 'a']                                                                                             17\n",
      "['t', 'r', 'e', 'n', 'd', 's', 't', 'w', 'i', 't', 't', 'e', 'r']                                                     16\n",
      "['u', 'b', 'u', 'n', 't', 'u']                                                                                        16\n",
      "Name: obfuscate_at_sign, dtype: int64\n",
      "\n",
      "Top 10 values in entropy:\n",
      "0                     29475\n",
      "2.15413541726763      13046\n",
      "2.375                 12391\n",
      "2.4063042189065182    12063\n",
      "1.8575424759098895    11227\n",
      "2.5954888901709436    11194\n",
      "2.625                  9814\n",
      "2.1205899331922318     9714\n",
      "1.5                    9118\n",
      "2.789735285398626      8789\n",
      "Name: entropy, dtype: int64\n",
      "\n",
      "Top 10 values in Domain_Age:\n",
      "0                     81213\n",
      "2.5954888901709436      693\n",
      "2.375                   636\n",
      "2.789735285398626       632\n",
      "2.4063042189065182      552\n",
      "2.723308333814104       548\n",
      "2.7813014714884527      528\n",
      "2.9528822923277263      483\n",
      "2.625                   474\n",
      "2.1205899331922318      466\n",
      "Name: Domain_Age, dtype: int64\n",
      "\n",
      "Top 10 values in tld:\n",
      "com      237413\n",
      "org       36577\n",
      "net       18048\n",
      "ru        14595\n",
      "de        12747\n",
      "co.uk      9148\n",
      "nl         6106\n",
      "fr         5564\n",
      "edu        5408\n",
      "it         5047\n",
      "Name: tld, dtype: int64\n",
      "\n",
      "Top 10 values in dec_8:\n",
      "0         463231\n",
      "com        24865\n",
      "0           4999\n",
      "org         2896\n",
      "net         1498\n",
      "ru           383\n",
      "co           247\n",
      "info         235\n",
      "io           161\n",
      "com.au       106\n",
      "Name: dec_8, dtype: int64\n",
      "\n",
      "Top 10 values in dec_32:\n",
      "0                                492445\n",
      "0                                  4939\n",
      "1                                  1178\n",
      "1                                    60\n",
      "0Admin@internationaladmin.com        15\n",
      "abuse@web.com                        14\n",
      "0Admin@enlightendomains.co.nz        14\n",
      "0.0                                  10\n",
      "0Admin@juming.com                     9\n",
      "0Admin-c@1api.net                     8\n",
      "Name: dec_32, dtype: int64\n",
      "\n",
      "Top 10 values in Emails:\n",
      "abuse@godaddy.com                                                      46802\n",
      "abuse@web.com                                                          45218\n",
      "0                                                                      30878\n",
      "DomainAbuse@service.aliyun.com                                          9608\n",
      "ABUSE@ENOM.COM                                                          6744\n",
      "supervision@xinnet.com                                                  4271\n",
      "abuse@name.com                                                          3784\n",
      "['abusecomplaints@markmonitor.com', 'whoisrequest@markmonitor.com']     3054\n",
      "['abuse@ionos.com', 'dataprivacyprotected@1und1.de']                    2950\n",
      "abuse@dynadot.com                                                       2538\n",
      "Name: Emails, dtype: int64\n",
      "\n",
      "Top 10 values in numeric_percentage:\n",
      "0.0                                                                         435327\n",
      "0.0                                                                           3979\n",
      "abuse@godaddy.com                                                             3240\n",
      "['abuse-contact@publicdomainregistry.com', 'contact@privacyprotect.org']      1575\n",
      " Admin or Other contacts of the queried domain name                           1197\n",
      "14.285714285714285                                                            1088\n",
      "20.0                                                                          1027\n",
      "16.666666666666664                                                            1019\n",
      "9.090909090909092                                                              993\n",
      "12.5                                                                           977\n",
      "Name: numeric_percentage, dtype: int64\n",
      "\n",
      "Top 10 values in puny_coded:\n",
      "0                     458679\n",
      "0.0                    32435\n",
      "0                       4996\n",
      "1                        448\n",
      "14.285714285714285        92\n",
      "16.666666666666664        87\n",
      "10.0                      86\n",
      "6.25                      82\n",
      "7.6923076923076925        77\n",
      "6.666666666666668         74\n",
      "Name: puny_coded, dtype: int64\n",
      "\n",
      "Top 10 values in typos:\n",
      "[('qq.com', 86), ('vk.com', 86)]                  87093\n",
      "[('facebook.com', 86), ('twitter.com', 86)]       57759\n",
      "[('google.com', 86), ('apple.com', 86)]           33638\n",
      "0                                                 32581\n",
      "[('apple.com', 86), ('adobe.com', 86)]            19296\n",
      "[('twitter.com', 86), ('google.com', 86)]         13758\n",
      "[('w3.org', 86), ('creativecommons.org', 86)]     11985\n",
      "[('wordpress.org', 86), ('wikipedia.org', 86)]    11753\n",
      "[('w3.org', 86), ('npr.org', 86)]                 10316\n",
      "[('t.co', 86), ('bbc.co.uk', 86)]                  9409\n",
      "Name: typos, dtype: int64\n",
      "\n",
      "Top 10 values in oc_8:\n",
      "0                                                 461533\n",
      "[('qq.com', 86), ('vk.com', 86)]                    7131\n",
      "[('facebook.com', 86), ('twitter.com', 86)]         6711\n",
      "0                                                   4999\n",
      "[('google.com', 86), ('apple.com', 86)]             3759\n",
      "[('apple.com', 86), ('adobe.com', 86)]              2020\n",
      "[('twitter.com', 86), ('google.com', 86)]           1563\n",
      "[('w3.org', 86), ('npr.org', 86)]                    848\n",
      "[('wordpress.org', 86), ('wikipedia.org', 86)]       824\n",
      "[('w3.org', 86), ('creativecommons.org', 86)]        692\n",
      "Name: oc_8, dtype: int64\n",
      "\n",
      "Top 10 values in 3gram:\n",
      "0                                                                  32087\n",
      "[]                                                                  3739\n",
      "['goo', 'oog', 'ogl', 'gle']                                        1010\n",
      "['hug', 'uge', 'ged', 'edo', 'dom', 'oma', 'mai', 'ain', 'ins']      504\n",
      "['www']                                                              229\n",
      "['fac', 'ace', 'ceb', 'ebo', 'boo', 'ook']                           200\n",
      "['yah', 'aho', 'hoo']                                                199\n",
      "['vho', 'hos', 'ost', 'stg', 'tgo']                                  179\n",
      "['xoo', 'ooi', 'oit']                                                150\n",
      "['bee', 'eeg']                                                       150\n",
      "Name: 3gram, dtype: int64\n",
      "\n",
      "Top 10 values in char_distribution:\n",
      "defaultdict(<class 'int'>, {'e': 1, 'o': 2, 'w': 3, 'l': 1, 'g': 2})                                                                            470\n",
      "defaultdict(<class 'int'>, {'e': 1, 'o': 2, 'g': 2, 'l': 1})                                                                                    338\n",
      "defaultdict(<class 'int'>, {'h': 1, 'e': 1, 'o': 1, 'a': 1, 'g': 1, 'u': 1, 'i': 1, 'd': 1, 'm': 1, 's': 1, 'w': 3, 'n': 1})                    262\n",
      "defaultdict(<class 'int'>, {'d': 1, 'u': 1, 'm': 1, 'w': 3, 'a': 1, 'n': 1, 'g': 1, 'i': 1, 's': 1, 'h': 1, 'e': 1, 'o': 1})                    240\n",
      "defaultdict(<class 'int'>, {'w': 3})                                                                                                            225\n",
      "defaultdict(<class 'int'>, {'t': 3, 'e': 1, 's': 2, 'n': 1, 'v': 1, 'h': 1, 'p': 1, 'g': 1, 'o': 4})                                            156\n",
      "defaultdict(<class 'int'>, {'e': 2, 'g': 1, 'b': 1})                                                                                            150\n",
      "defaultdict(<class 'int'>, {'t': 1, 'x': 1, 'i': 1, 'o': 2, 'w': 3})                                                                            146\n",
      "defaultdict(<class 'int'>, {'e': 1, 'o': 2, 'f': 1, 'k': 1, 'a': 1, 'b': 1, 'w': 3, 'c': 1})                                                    134\n",
      "defaultdict(<class 'int'>, {'e': 6, 'h': 2, 'c': 1, 'r': 2, 'l': 2, 'a': 1, 'j': 1, 'u': 1, 'i': 1, 't': 1, 'b': 1, 'v': 1, '.': 1, 's': 3})    122\n",
      "Name: char_distribution, dtype: int64\n",
      "\n",
      "Top 10 values in 2gram:\n",
      "['go', 'oo', 'og', 'gl', 'le']                                  1010\n",
      "['hu', 'ug', 'ge', 'ed', 'do', 'om', 'ma', 'ai', 'in', 'ns']     504\n",
      "['ww', 'ww']                                                     229\n",
      "[]                                                               224\n",
      "['fa', 'ac', 'ce', 'eb', 'bo', 'oo', 'ok']                       200\n",
      "['ya', 'ah', 'ho', 'oo']                                         199\n",
      "['vh', 'ho', 'os', 'st', 'tg', 'go']                             179\n",
      "['us']                                                           158\n",
      "['be', 'ee', 'eg']                                               150\n",
      "['xo', 'oo', 'oi', 'it']                                         150\n",
      "Name: 2gram, dtype: int64\n",
      "\n",
      "Top 10 values in Registrar:\n",
      "GoDaddy.com LLC                            48314\n",
      "Network Solutions                          39051\n",
      "NAMECHEAP INC                              13558\n",
      "CSC CORPORATE DOMAINS inc.                 13056\n",
      "Alibaba Cloud Computing (Beijing) Co.       9441\n",
      "ENOM inc.                                   9263\n",
      "RU-CENTER-RU                                7241\n",
      "PDR Ltd. d/b/a PublicDomainRegistry.com     5943\n",
      "Name.com inc.                               4819\n",
      "MarkMonitor inc.                            4739\n",
      "Name: Registrar, dtype: int64\n",
      "\n",
      "Top 10 values in sld:\n",
      " LLC                                       50056\n",
      "GoDaddy.com LLC                            22896\n",
      " Ltd.                                      10083\n",
      "PDR Ltd. d/b/a PublicDomainRegistry.com     1777\n",
      "Ltd.                                        1380\n",
      " Inc                                        1373\n",
      "CSC CORPORATE DOMAINS inc.                  1166\n",
      "Inc.                                        1017\n",
      "google                                      1010\n",
      "GRANSY S.R.O D/B/A SUBREG.CZ                 985\n",
      "Name: sld, dtype: int64\n",
      "\n",
      "Top 10 values in Name_Server_Count:\n",
      "2.0     96876\n",
      "4.0     85880\n",
      "0.0     81112\n",
      "8.0     21051\n",
      "3.0     14792\n",
      "6.0     12483\n",
      "5.0      5068\n",
      "12.0     3343\n",
      "10.0     2465\n",
      "16.0     2428\n",
      "Name: Name_Server_Count, dtype: int64\n",
      "\n",
      "Top 10 values in Page_Rank:\n",
      "-1.0     344724\n",
      " 2.0      62888\n",
      " 4.0      22553\n",
      " 3.0       4347\n",
      " 8.0       2679\n",
      " 6.0       2416\n",
      " 5.0       1655\n",
      " 0.0       1386\n",
      " 12.0       527\n",
      " 10.0       371\n",
      "Name: Page_Rank, dtype: int64\n",
      "\n",
      "Top 10 values in Label:\n",
      "0    494135\n",
      "1      4999\n",
      "Name: Label, dtype: int64\n",
      "\n"
     ]
    }
   ],
   "source": [
    "for column in df.columns:\n",
    "    top_10_values = df[column].value_counts().head(10)\n",
    "    print(f\"Top 10 values in {column}:\")\n",
    "    print(top_10_values)\n",
    "    print()"
   ]
  },
  {
   "cell_type": "markdown",
   "metadata": {},
   "source": [
    "Sprawdzenie ile unikalnych wartości jest w każdej z kolumn."
   ]
  },
  {
   "cell_type": "code",
   "execution_count": 10,
   "metadata": {},
   "outputs": [
    {
     "name": "stdout",
     "output_type": "stream",
     "text": [
      "W kolumnie Country jest 284 unikalnych wartości.\n",
      "W kolumnie ASN jest 10356 unikalnych wartości.\n",
      "W kolumnie TTL jest 12864 unikalnych wartości.\n",
      "W kolumnie IP jest 177854 unikalnych wartości.\n",
      "W kolumnie Domain jest 313538 unikalnych wartości.\n",
      "W kolumnie State jest 5813 unikalnych wartości.\n",
      "W kolumnie Registrant_Name jest 4202 unikalnych wartości.\n",
      "W kolumnie Country.1 jest 1619 unikalnych wartości.\n",
      "W kolumnie Creation_Date_Time jest 145658 unikalnych wartości.\n",
      "W kolumnie hex_32 jest 123 unikalnych wartości.\n",
      "W kolumnie hex_8 jest 20 unikalnych wartości.\n",
      "W kolumnie Domain_Name jest 195951 unikalnych wartości.\n",
      "W kolumnie Alexa_Rank jest 114287 unikalnych wartości.\n",
      "W kolumnie subdomain jest 185 unikalnych wartości.\n",
      "W kolumnie Organization jest 39735 unikalnych wartości.\n",
      "W kolumnie len jest 514 unikalnych wartości.\n",
      "W kolumnie longest_word jest 34203 unikalnych wartości.\n",
      "W kolumnie oc_32 jest 7204 unikalnych wartości.\n",
      "W kolumnie shortened jest 97 unikalnych wartości.\n",
      "W kolumnie 1gram jest 211752 unikalnych wartości.\n",
      "W kolumnie obfuscate_at_sign jest 13501 unikalnych wartości.\n",
      "W kolumnie entropy jest 4306 unikalnych wartości.\n",
      "W kolumnie Domain_Age jest 333588 unikalnych wartości.\n",
      "W kolumnie tld jest 31785 unikalnych wartości.\n",
      "W kolumnie dec_8 jest 76 unikalnych wartości.\n",
      "W kolumnie dec_32 jest 163 unikalnych wartości.\n",
      "W kolumnie Emails jest 44744 unikalnych wartości.\n",
      "W kolumnie numeric_percentage jest 9962 unikalnych wartości.\n",
      "W kolumnie puny_coded jest 185 unikalnych wartości.\n",
      "W kolumnie typos jest 30268 unikalnych wartości.\n",
      "W kolumnie oc_8 jest 926 unikalnych wartości.\n",
      "W kolumnie 3gram jest 210746 unikalnych wartości.\n",
      "W kolumnie char_distribution jest 284881 unikalnych wartości.\n",
      "W kolumnie 2gram jest 229923 unikalnych wartości.\n",
      "W kolumnie Registrar jest 17289 unikalnych wartości.\n",
      "W kolumnie sld jest 177013 unikalnych wartości.\n",
      "W kolumnie Name_Server_Count jest 50769 unikalnych wartości.\n",
      "W kolumnie Page_Rank jest 30 unikalnych wartości.\n",
      "W kolumnie Label jest 2 unikalnych wartości.\n"
     ]
    }
   ],
   "source": [
    "for column in df.columns:\n",
    "    unique_count = df[column].nunique()\n",
    "    print(f'W kolumnie {column} jest {unique_count} unikalnych wartości.')"
   ]
  },
  {
   "cell_type": "markdown",
   "metadata": {},
   "source": [
    "Usunięcie kolumn na podstawie wcześniejszych informacji."
   ]
  },
  {
   "cell_type": "code",
   "execution_count": 11,
   "metadata": {},
   "outputs": [],
   "source": [
    "df = df.drop([\n",
    "    'Domain', 'Domain_Name', 'hex_32', 'hex_8', 'oc_32', 'shortened', 'obfuscate_at_sign', 'dec_8', 'dec_32', 'oc_8', 'Registrant_Name', 'Country.1', 'numeric_percentage', 'puny_coded'\n",
    "], axis = 1)"
   ]
  },
  {
   "cell_type": "markdown",
   "metadata": {},
   "source": [
    "Podział adresów IP na klasy. "
   ]
  },
  {
   "cell_type": "code",
   "execution_count": 12,
   "metadata": {},
   "outputs": [],
   "source": [
    "def classify_ip(ip):\n",
    "    try:\n",
    "        ip_obj = ipaddress.IPv4Address(ip)\n",
    "        if ip_obj.is_private:\n",
    "            return 'Class A'\n",
    "        elif ip_obj.is_multicast:\n",
    "            return 'Class D'\n",
    "        elif ip_obj.is_loopback:\n",
    "            return 'Class E'\n",
    "        else:\n",
    "            first_octet = int(ip_obj.packed[0])\n",
    "            if 1 <= first_octet <= 126:\n",
    "                return 'Class A'\n",
    "            elif 128 <= first_octet <= 191:\n",
    "                return 'Class B'\n",
    "            elif 192 <= first_octet <= 223:\n",
    "                return 'Class C'\n",
    "            else:\n",
    "                return 'Class D or E'\n",
    "    except ipaddress.AddressValueError:\n",
    "        return 'Invalid IP'\n",
    "\n",
    "df['IP_Class'] = df['IP'].apply(classify_ip)"
   ]
  },
  {
   "cell_type": "code",
   "execution_count": 13,
   "metadata": {},
   "outputs": [
    {
     "data": {
      "text/plain": [
       "Class A       231051\n",
       "Invalid IP    108622\n",
       "Class C        80291\n",
       "Class B        79170\n",
       "Name: IP_Class, dtype: int64"
      ]
     },
     "execution_count": 13,
     "metadata": {},
     "output_type": "execute_result"
    }
   ],
   "source": [
    "df['IP_Class'].value_counts()"
   ]
  },
  {
   "cell_type": "markdown",
   "metadata": {},
   "source": [
    "Rozdzielenie kategorii z kolumny IP_Class na osobne kolumny."
   ]
  },
  {
   "cell_type": "code",
   "execution_count": 14,
   "metadata": {},
   "outputs": [],
   "source": [
    "df = pd.concat([df, pd.get_dummies(df['IP_Class']).rename(columns=lambda x: f'IP_Class_{x}')], axis=1)\n",
    "df = df.drop(['IP_Class', 'IP'], axis = 1)"
   ]
  },
  {
   "cell_type": "markdown",
   "metadata": {},
   "source": [
    "W kolumnach, gdzie dane powinny być numeryczne pojawiają się wartości typu string. Definiujemy funkcję, która sprawdza typ, jeżeli wartość nie jest numeryczna zamienia ją na None."
   ]
  },
  {
   "cell_type": "code",
   "execution_count": 15,
   "metadata": {},
   "outputs": [],
   "source": [
    "def convert_to_float(value):\n",
    "    try:\n",
    "        value = float(value)\n",
    "        return value\n",
    "    except (ValueError, TypeError):\n",
    "        return None  \n",
    "\n",
    "df['Alexa_Rank'] = df['Alexa_Rank'].apply(convert_to_float)\n",
    "df['TTL'] = df['TTL'].apply(convert_to_float)\n",
    "df['Page_Rank'] = df['Page_Rank'].apply(convert_to_float)\n",
    "df['entropy'] = df['entropy'].apply(convert_to_float)\n",
    "df['ASN'] = df['ASN'].apply(convert_to_float)"
   ]
  },
  {
   "cell_type": "code",
   "execution_count": 16,
   "metadata": {},
   "outputs": [
    {
     "name": "stdout",
     "output_type": "stream",
     "text": [
      "54803\n",
      "24\n",
      "54917\n",
      "178\n",
      "109830\n"
     ]
    }
   ],
   "source": [
    "print(df['Alexa_Rank'].isna().sum())\n",
    "print(df['TTL'].isna().sum())\n",
    "print(df['Page_Rank'].isna().sum())\n",
    "print(df['entropy'].isna().sum())\n",
    "print(df['ASN'].isna().sum())"
   ]
  },
  {
   "cell_type": "markdown",
   "metadata": {},
   "source": [
    "Kolumny Alexa_Rank i Page_Rank uzupełniamy medianą z tych kolumn - te wartości powinny być całkowite, a TTL, ASN i entropy średnią."
   ]
  },
  {
   "cell_type": "code",
   "execution_count": 17,
   "metadata": {},
   "outputs": [],
   "source": [
    "df['ASN'].fillna(df['ASN'].mean(), inplace=True)\n",
    "df['Alexa_Rank'].fillna(df['Alexa_Rank'].median(), inplace=True)\n",
    "df['Page_Rank'].fillna(df['Page_Rank'].median(), inplace=True)\n",
    "df['TTL'].fillna(df['TTL'].mean(), inplace=True)\n",
    "df['entropy'].fillna(df['entropy'].mean(), inplace=True)"
   ]
  },
  {
   "cell_type": "code",
   "execution_count": 18,
   "metadata": {},
   "outputs": [
    {
     "name": "stdout",
     "output_type": "stream",
     "text": [
      "0\n",
      "0\n",
      "0\n",
      "0\n",
      "0\n"
     ]
    }
   ],
   "source": [
    "print(df['Alexa_Rank'].isna().sum())\n",
    "print(df['TTL'].isna().sum())\n",
    "print(df['Page_Rank'].isna().sum())\n",
    "print(df['entropy'].isna().sum())\n",
    "print(df['ASN'].isna().sum())"
   ]
  },
  {
   "cell_type": "code",
   "execution_count": 19,
   "metadata": {},
   "outputs": [
    {
     "data": {
      "text/plain": [
       "before Aug-1996        2843\n",
       "2003-10-31 19:24:33     481\n",
       "1991-01-01 00:00:00     244\n",
       "2018-12-26 02:40:22     219\n",
       "1997-03-29 05:00:00     213\n",
       "                       ... \n",
       "2012-02-26 14:03:36       1\n",
       "2006-06-06 18:56:55       1\n",
       "2016-10-05 11:41:01       1\n",
       "2019-04-08 06:35:48       1\n",
       "2018-04-29 22:00:48       1\n",
       "Name: Creation_Date_Time, Length: 145658, dtype: int64"
      ]
     },
     "execution_count": 19,
     "metadata": {},
     "output_type": "execute_result"
    }
   ],
   "source": [
    "df['Creation_Date_Time'].value_counts()"
   ]
  },
  {
   "cell_type": "markdown",
   "metadata": {},
   "source": [
    "Z kolumny Creation_Date_Time ,,wyciągamy'' rok."
   ]
  },
  {
   "cell_type": "code",
   "execution_count": 20,
   "metadata": {},
   "outputs": [],
   "source": [
    "def apply_rules(date):\n",
    "    if isinstance(date, str) and date == 'before Aug-1996':\n",
    "        return date\n",
    "    elif isinstance(date, str):\n",
    "        return date[:4]\n",
    "    else:\n",
    "        return date.strftime('%Y') if isinstance(date, pd.Timestamp) else None\n",
    "\n",
    "df['Creation_Date_Year'] = df['Creation_Date_Time'].apply(apply_rules)"
   ]
  },
  {
   "cell_type": "code",
   "execution_count": 21,
   "metadata": {},
   "outputs": [
    {
     "data": {
      "text/plain": [
       "array(['1997', None, '2005', '2000', '2002', '2004', '2001', '1987',\n",
       "       '1986', '2016', '1999', '2003', '1994', '1995', '2007', '1998',\n",
       "       '1991', '2010', '1993', 'before Aug-1996', '2006', '1988', '1996',\n",
       "       '1989', '2008', '1992', '2009', '1990', '2014', '2012', '2013',\n",
       "       '2011', '2019', '2015', '2018', '2017', '2020', 'GB', '0', 'US',\n",
       "       ' VA.', 'ES', 'UK', '1985', 'TW', 'CN', \"['CZ\", 'VG', 'KR', 'MY',\n",
       "       ' Rep', 'PH', 'VN', 'RU', 'AU', 'ID', 'TR', 'CZ', 'RO', 'NG',\n",
       "       \"['SK\", 'PK'], dtype=object)"
      ]
     },
     "execution_count": 21,
     "metadata": {},
     "output_type": "execute_result"
    }
   ],
   "source": [
    "df['Creation_Date_Year'].unique()"
   ]
  },
  {
   "cell_type": "code",
   "execution_count": 22,
   "metadata": {},
   "outputs": [],
   "source": [
    "replace_values = ['GB', '0', 'US', ' VA.', 'ES', 'UK', 'TW', 'CN', \"['CZ\", 'VG', 'KR', 'MY',\n",
    "                   ' Rep', 'PH', 'VN', 'RU', 'AU', 'ID', 'TR', 'CZ', 'RO', 'NG', \"['SK\", 'PK'] \n",
    "df['Creation_Date_Year'] = df['Creation_Date_Year'].apply(lambda x: None if x in replace_values else x)"
   ]
  },
  {
   "cell_type": "markdown",
   "metadata": {},
   "source": [
    "Jeżeli wartość to 'before Aug-1996' to przypisujemy wartość 1995."
   ]
  },
  {
   "cell_type": "code",
   "execution_count": 23,
   "metadata": {},
   "outputs": [],
   "source": [
    "df['Creation_Date_Year'] = df['Creation_Date_Year'].replace('before Aug-1996', '1995')"
   ]
  },
  {
   "cell_type": "markdown",
   "metadata": {},
   "source": [
    "Definiujemy 5 kategorii do których następnie dopisujemy wartości. Kategorie dzielimy na osobne kolumny."
   ]
  },
  {
   "cell_type": "code",
   "execution_count": 24,
   "metadata": {},
   "outputs": [],
   "source": [
    "bin_edges = [1000, 1996, 2003, 2009, 2015, 9999] \n",
    "bin_labels = ['before 1996', '1997-2002', '2003-2008', '2009-2014', '2015-now']\n",
    "df['Creation_Date_Year'] = pd.cut(df['Creation_Date_Year'].astype(float), bins=bin_edges, labels=bin_labels, include_lowest=True)\n",
    "\n",
    "df = pd.concat([df, pd.get_dummies(df['Creation_Date_Year']).rename(columns=lambda x: f'Creation_Year_{x}')], axis=1)\n",
    "df = df.drop(['Creation_Date_Year', 'Creation_Date_Time'], axis = 1)"
   ]
  },
  {
   "cell_type": "code",
   "execution_count": 25,
   "metadata": {},
   "outputs": [
    {
     "data": {
      "text/plain": [
       "US    209425\n",
       "DE     22829\n",
       "CN     19368\n",
       "FR     13021\n",
       "RU     12759\n",
       "VG     12015\n",
       "GB     10392\n",
       "NL      8280\n",
       "CA      7799\n",
       "JP      4581\n",
       "Name: Country, dtype: int64"
      ]
     },
     "execution_count": 25,
     "metadata": {},
     "output_type": "execute_result"
    }
   ],
   "source": [
    "df['Country'].value_counts().head(10)"
   ]
  },
  {
   "cell_type": "markdown",
   "metadata": {},
   "source": [
    "W kolumnie Country USA stanowi ponad 200 000 rekordów, zatem jeżeli wartość to 'US' to przypisujemy wartość 1, w przeciwnym razie przypisujemy 0. Zmieniamy nazwę kolumny na Country_US."
   ]
  },
  {
   "cell_type": "code",
   "execution_count": 26,
   "metadata": {},
   "outputs": [],
   "source": [
    "df['Country'] = df['Country'].apply(lambda x: 1 if x == 'US' else 0)\n",
    "df = df.rename(columns={\"Country\": \"Country_US\"})"
   ]
  },
  {
   "cell_type": "code",
   "execution_count": 27,
   "metadata": {},
   "outputs": [
    {
     "data": {
      "text/plain": [
       "Arizona                 9.454113\n",
       "Panama                  4.614853\n",
       "REDACTED FOR PRIVACY    4.316403\n",
       "CA                      4.292327\n",
       "California              3.298855\n",
       "WA                      2.731935\n",
       "FL                      2.415314\n",
       "CO                      2.125949\n",
       "NY                      2.084611\n",
       "AZ                      2.076434\n",
       "Name: State, dtype: float64"
      ]
     },
     "execution_count": 27,
     "metadata": {},
     "output_type": "execute_result"
    }
   ],
   "source": [
    "df['State'].value_counts(normalize=True).head(10)*100"
   ]
  },
  {
   "cell_type": "code",
   "execution_count": 28,
   "metadata": {},
   "outputs": [],
   "source": [
    "df = df.drop(['State'], axis = 1)"
   ]
  },
  {
   "cell_type": "code",
   "execution_count": 29,
   "metadata": {},
   "outputs": [
    {
     "data": {
      "text/plain": [
       "0                                                              321364\n",
       "1                                                              153271\n",
       "0.0                                                             13362\n",
       "1.0                                                              5627\n",
       "0                                                                3055\n",
       "1                                                                1944\n",
       "-1.0                                                              134\n",
       "163226.0                                                            6\n",
       "Department Cmolenskoy field of information technology               6\n",
       "1Administracion General de La Comunidad Autonoma de Euskadi         6\n",
       "60416.0                                                             6\n",
       "180698.0                                                            5\n",
       "94319.0                                                             5\n",
       "1075134.0                                                           4\n",
       "6699514.0                                                           4\n",
       "Name: subdomain, dtype: int64"
      ]
     },
     "execution_count": 29,
     "metadata": {},
     "output_type": "execute_result"
    }
   ],
   "source": [
    "df['subdomain'].value_counts().head(15)"
   ]
  },
  {
   "cell_type": "markdown",
   "metadata": {},
   "source": [
    "Wyżej widać, że wartości 0 i 1 są najpopularniejsze, lecz mają różne zapisy. Definiujemy słownik i przypisujemy dane do odpowiednich wartości."
   ]
  },
  {
   "cell_type": "code",
   "execution_count": 30,
   "metadata": {},
   "outputs": [
    {
     "data": {
      "text/plain": [
       "0.0    337781\n",
       "1.0    160842\n",
       "Name: subdomain, dtype: int64"
      ]
     },
     "execution_count": 30,
     "metadata": {},
     "output_type": "execute_result"
    }
   ],
   "source": [
    "df['subdomain'] = df['subdomain'].replace({'0': 0, '0.0': 0, '1': 1, '1.0': 1})\n",
    "df['subdomain'] = df['subdomain'].apply(lambda x: None if x not in (0, 1) else x)\n",
    "df['subdomain'].value_counts()"
   ]
  },
  {
   "cell_type": "code",
   "execution_count": 31,
   "metadata": {},
   "outputs": [
    {
     "data": {
      "text/plain": [
       "511"
      ]
     },
     "execution_count": 31,
     "metadata": {},
     "output_type": "execute_result"
    }
   ],
   "source": [
    "df['subdomain'].isna().sum()"
   ]
  },
  {
   "cell_type": "markdown",
   "metadata": {},
   "source": [
    "Usuwamy puste wartości - jest ich tylko 511."
   ]
  },
  {
   "cell_type": "code",
   "execution_count": 32,
   "metadata": {},
   "outputs": [],
   "source": [
    "df = df.dropna(subset=['subdomain'])"
   ]
  },
  {
   "cell_type": "code",
   "execution_count": 33,
   "metadata": {},
   "outputs": [
    {
     "data": {
      "text/plain": [
       "REDACTED FOR PRIVACY                              11.821559\n",
       "Domains By Proxy                                   9.703319\n",
       "WhoisGuard inc.                                    4.695408\n",
       "See PrivacyGuardian.org                            1.907448\n",
       "Whois Privacy Service                              1.489795\n",
       "DATA REDACTED                                      1.258857\n",
       "Domain Protection Services inc.                    1.180240\n",
       "Privacy Protect                                    1.091795\n",
       "GDPR Masked                                        0.716890\n",
       "Whois Privacy Protection Service inc.              0.685443\n",
       "Proxy Protection LLC                               0.673650\n",
       "HugeDomains.com                                    0.541967\n",
       "Whois protection                                   0.470229\n",
       "THE ENDURANCE INTERNATIONAL GROUP inc.             0.459910\n",
       "Whois Privacy Corp.                                0.433377\n",
       "DANESCO TRADING LTD.                               0.363604\n",
       "Whoisprotection.cc                                 0.340510\n",
       "1&1 Internet Inc                                   0.318399\n",
       "Whois Privacy Protection Service by onamae.com     0.296288\n",
       "['Data Protected', 'REDACTED FOR PRIVACY']         0.242239\n",
       "Name: Organization, dtype: float64"
      ]
     },
     "execution_count": 33,
     "metadata": {},
     "output_type": "execute_result"
    }
   ],
   "source": [
    "df['Organization'].value_counts(normalize=True).head(20)*100"
   ]
  },
  {
   "cell_type": "markdown",
   "metadata": {},
   "source": [
    "Wybieramy 3 najpopularniejsze wartości w kolumnie Organization, wartości dopisujemy do jednej z nich lub do klasy others."
   ]
  },
  {
   "cell_type": "code",
   "execution_count": 34,
   "metadata": {},
   "outputs": [],
   "source": [
    "organizations = ['REDACTED FOR PRIVACY', 'Domains By Proxy', 'WhoisGuard inc.']\n",
    "df['Organization'] = df['Organization'].apply(lambda x: x if x in organizations else 'other')"
   ]
  },
  {
   "cell_type": "code",
   "execution_count": 35,
   "metadata": {},
   "outputs": [
    {
     "data": {
      "text/plain": [
       "other                   89.297926\n",
       "REDACTED FOR PRIVACY     4.825088\n",
       "Domains By Proxy         3.960507\n",
       "WhoisGuard inc.          1.916478\n",
       "Name: Organization, dtype: float64"
      ]
     },
     "execution_count": 35,
     "metadata": {},
     "output_type": "execute_result"
    }
   ],
   "source": [
    "df['Organization'].value_counts(normalize=True)*100"
   ]
  },
  {
   "cell_type": "markdown",
   "metadata": {},
   "source": [
    "Klasy dzielimy na kolumny."
   ]
  },
  {
   "cell_type": "code",
   "execution_count": 36,
   "metadata": {},
   "outputs": [],
   "source": [
    "df = pd.concat([df, pd.get_dummies(df['Organization']).rename(columns=lambda x: f'Organization_{x}')], axis=1)\n",
    "df = df.drop(['Organization'], axis = 1)"
   ]
  },
  {
   "cell_type": "code",
   "execution_count": 37,
   "metadata": {},
   "outputs": [
    {
     "data": {
      "text/plain": [
       "10                                     39879\n",
       "11                                     39171\n",
       "9                                      38668\n",
       "8                                      36571\n",
       "12                                     35997\n",
       "                                       ...  \n",
       "Ministry                                   1\n",
       "Lda.                                       1\n",
       "25Administraci                             1\n",
       " Architecture and Design'                  1\n",
       " British and Irish Lions and Pro 12        1\n",
       "Name: len, Length: 427, dtype: int64"
      ]
     },
     "execution_count": 37,
     "metadata": {},
     "output_type": "execute_result"
    }
   ],
   "source": [
    "df['len'].value_counts()"
   ]
  },
  {
   "cell_type": "code",
   "execution_count": 38,
   "metadata": {},
   "outputs": [],
   "source": [
    "def convert_to_int(value):\n",
    "    try:\n",
    "        value = int(value)\n",
    "        return value\n",
    "    except (ValueError, TypeError):\n",
    "        return None  \n",
    "df['len'] = df['len'].apply(convert_to_int)"
   ]
  },
  {
   "cell_type": "code",
   "execution_count": 39,
   "metadata": {},
   "outputs": [
    {
     "data": {
      "text/plain": [
       "30543"
      ]
     },
     "execution_count": 39,
     "metadata": {},
     "output_type": "execute_result"
    }
   ],
   "source": [
    "df['len'].isna().sum()"
   ]
  },
  {
   "cell_type": "markdown",
   "metadata": {},
   "source": [
    "Uzupełniamy puste wartości medianą z kolumny len."
   ]
  },
  {
   "cell_type": "code",
   "execution_count": 40,
   "metadata": {},
   "outputs": [],
   "source": [
    "df['len'].fillna(df['len'].median(), inplace=True)"
   ]
  },
  {
   "cell_type": "code",
   "execution_count": 41,
   "metadata": {},
   "outputs": [
    {
     "data": {
      "text/plain": [
       "12          2699\n",
       "13          2679\n",
       "11          2546\n",
       "10          2349\n",
       "9           2346\n",
       "14          2335\n",
       "15          2165\n",
       "8           2104\n",
       "online      1926\n",
       "16          1841\n",
       "s           1677\n",
       "17          1602\n",
       "7           1489\n",
       "news        1433\n",
       "18          1368\n",
       "google      1112\n",
       "19          1085\n",
       "e           1029\n",
       "6            976\n",
       "world        933\n",
       "group        908\n",
       "tech         863\n",
       "xn           845\n",
       "20           831\n",
       "t            816\n",
       "net          785\n",
       "health       763\n",
       "media        746\n",
       "5            743\n",
       "business     741\n",
       "Name: longest_word, dtype: int64"
      ]
     },
     "execution_count": 41,
     "metadata": {},
     "output_type": "execute_result"
    }
   ],
   "source": [
    "df['longest_word'].value_counts().head(30)"
   ]
  },
  {
   "cell_type": "code",
   "execution_count": 42,
   "metadata": {},
   "outputs": [],
   "source": [
    "longest_word  = ['google', 'online', 'news', 'world', 'group', 'tech', 'net', 'health', 'media', 'business']\n",
    "df['longest_word'] = df['longest_word'].apply(lambda x: x if x in longest_word else 'other')"
   ]
  },
  {
   "cell_type": "code",
   "execution_count": 43,
   "metadata": {},
   "outputs": [
    {
     "data": {
      "text/plain": [
       "other       488413\n",
       "online        1926\n",
       "news          1433\n",
       "google        1112\n",
       "world          933\n",
       "group          908\n",
       "tech           863\n",
       "net            785\n",
       "health         763\n",
       "media          746\n",
       "business       741\n",
       "Name: longest_word, dtype: int64"
      ]
     },
     "execution_count": 43,
     "metadata": {},
     "output_type": "execute_result"
    }
   ],
   "source": [
    "df['longest_word'].value_counts()"
   ]
  },
  {
   "cell_type": "markdown",
   "metadata": {},
   "source": [
    "Ta kolumna według opisu danych powinna posiadać najdłuższy wyraz, czyli string, a w większości posiada prawdopodobnie długość najdłuższego wyrazu. Próbując podzielić ją na najpopularniejsze wyrazy w kategorii other jest 488000 wartości, więc taki podział nie ma sensu. Usuwamy kolumnę."
   ]
  },
  {
   "cell_type": "code",
   "execution_count": 44,
   "metadata": {},
   "outputs": [],
   "source": [
    "df = df.drop(['longest_word'], axis = 1)"
   ]
  },
  {
   "cell_type": "code",
   "execution_count": 45,
   "metadata": {},
   "outputs": [
    {
     "data": {
      "text/plain": [
       "array(['8256 days 11:53:49.631067', '8256 days 11:53:50.479085',\n",
       "       '8256 days 11:53:51.264191', ..., '1440 days 14:10:21.826624',\n",
       "       '1440 days 14:10:23.343224', '1440 days 14:10:24.246772'],\n",
       "      dtype=object)"
      ]
     },
     "execution_count": 45,
     "metadata": {},
     "output_type": "execute_result"
    }
   ],
   "source": [
    "df['Domain_Age'].unique()"
   ]
  },
  {
   "cell_type": "markdown",
   "metadata": {},
   "source": [
    "Z wartości z kolumny Domain_Age wydobywamy wartość numeryczną - liczbę dni."
   ]
  },
  {
   "cell_type": "code",
   "execution_count": 46,
   "metadata": {},
   "outputs": [],
   "source": [
    "df['Domain_Age'] = df['Domain_Age'].str.extract(r'(\\d+)').fillna(0).astype(int)"
   ]
  },
  {
   "cell_type": "code",
   "execution_count": 47,
   "metadata": {},
   "outputs": [
    {
     "data": {
      "text/plain": [
       "0        135704\n",
       "2         17383\n",
       "3         11362\n",
       "1          1848\n",
       "1493        892\n",
       "          ...  \n",
       "9351          1\n",
       "10974         1\n",
       "10728         1\n",
       "9378          1\n",
       "9856          1\n",
       "Name: Domain_Age, Length: 10305, dtype: int64"
      ]
     },
     "execution_count": 47,
     "metadata": {},
     "output_type": "execute_result"
    }
   ],
   "source": [
    "df['Domain_Age'].value_counts()"
   ]
  },
  {
   "cell_type": "code",
   "execution_count": 48,
   "metadata": {},
   "outputs": [
    {
     "data": {
      "text/plain": [
       "0"
      ]
     },
     "execution_count": 48,
     "metadata": {},
     "output_type": "execute_result"
    }
   ],
   "source": [
    "df['Domain_Age'].isna().sum()"
   ]
  },
  {
   "cell_type": "code",
   "execution_count": 49,
   "metadata": {},
   "outputs": [
    {
     "data": {
      "text/plain": [
       "com      47.612324\n",
       "org       7.335001\n",
       "net       3.619568\n",
       "ru        2.927061\n",
       "de        2.556440\n",
       "co.uk     1.834653\n",
       "nl        1.224572\n",
       "fr        1.115873\n",
       "edu       1.084587\n",
       "it        1.012188\n",
       "Name: tld, dtype: float64"
      ]
     },
     "execution_count": 49,
     "metadata": {},
     "output_type": "execute_result"
    }
   ],
   "source": [
    "df['tld'].value_counts(normalize=True).head(10)*100"
   ]
  },
  {
   "cell_type": "markdown",
   "metadata": {},
   "source": [
    "W kolumnie tld połowę wartości to 'com'. Dzielimy wartości na 'com' i na inne przypisując do 'com' wartość 1, a do pozostałych 0."
   ]
  },
  {
   "cell_type": "code",
   "execution_count": 50,
   "metadata": {},
   "outputs": [],
   "source": [
    "df['tld'] = df['tld'].apply(lambda x: 1 if x == 'com' else 0)\n",
    "df = df.rename(columns={\"tld\": \"tld_com\"})"
   ]
  },
  {
   "cell_type": "code",
   "execution_count": 51,
   "metadata": {},
   "outputs": [
    {
     "data": {
      "text/plain": [
       "abuse@godaddy.com                                                      14.338412\n",
       "abuse@web.com                                                          13.854021\n",
       "0                                                                       9.340388\n",
       "DomainAbuse@service.aliyun.com                                          2.943727\n",
       "ABUSE@ENOM.COM                                                          2.066246\n",
       "supervision@xinnet.com                                                  1.308561\n",
       "abuse@name.com                                                          1.159353\n",
       "['abusecomplaints@markmonitor.com', 'whoisrequest@markmonitor.com']     0.935693\n",
       "['abuse@ionos.com', 'dataprivacyprotected@1und1.de']                    0.903829\n",
       "abuse@dynadot.com                                                       0.777600\n",
       "Name: Emails, dtype: float64"
      ]
     },
     "execution_count": 51,
     "metadata": {},
     "output_type": "execute_result"
    }
   ],
   "source": [
    "df['Emails'].value_counts(normalize=True).head(10)*100"
   ]
  },
  {
   "cell_type": "markdown",
   "metadata": {},
   "source": [
    "Nie do końca wiadomo jak interpretować wartość 0 w tym przypadku, prawdopodobnie nie ma przypisanego emaila. Dzielimy te dane na abuse@godaddy.com, abuse@web.com oraz inne."
   ]
  },
  {
   "cell_type": "code",
   "execution_count": 52,
   "metadata": {},
   "outputs": [],
   "source": [
    "emails  = ['abuse@godaddy.com', 'abuse@web.com']\n",
    "df['Emails'] = df['Emails'].apply(lambda x: x if x in emails else 'other')"
   ]
  },
  {
   "cell_type": "code",
   "execution_count": 53,
   "metadata": {},
   "outputs": [
    {
     "data": {
      "text/plain": [
       "other                406606\n",
       "abuse@godaddy.com     46799\n",
       "abuse@web.com         45218\n",
       "Name: Emails, dtype: int64"
      ]
     },
     "execution_count": 53,
     "metadata": {},
     "output_type": "execute_result"
    }
   ],
   "source": [
    "df['Emails'].value_counts()"
   ]
  },
  {
   "cell_type": "markdown",
   "metadata": {},
   "source": [
    "Kategorie dzielimy na kolumny."
   ]
  },
  {
   "cell_type": "code",
   "execution_count": 54,
   "metadata": {},
   "outputs": [],
   "source": [
    "df = pd.concat([df, pd.get_dummies(df['Emails']).rename(columns=lambda x: f'Email_{x}')], axis=1)\n",
    "df = df.drop(['Emails'], axis = 1)"
   ]
  },
  {
   "cell_type": "code",
   "execution_count": 55,
   "metadata": {},
   "outputs": [
    {
     "data": {
      "text/plain": [
       "GoDaddy.com LLC                            13.517839\n",
       "Network Solutions                          10.926810\n",
       "NAMECHEAP INC                               3.793647\n",
       "CSC CORPORATE DOMAINS inc.                  3.651504\n",
       "Alibaba Cloud Computing (Beijing) Co.       2.641674\n",
       "ENOM inc.                                   2.591868\n",
       "RU-CENTER-RU                                2.026095\n",
       "PDR Ltd. d/b/a PublicDomainRegistry.com     1.662903\n",
       "Name.com inc.                               1.348398\n",
       "MarkMonitor inc.                            1.326014\n",
       "Name: Registrar, dtype: float64"
      ]
     },
     "execution_count": 55,
     "metadata": {},
     "output_type": "execute_result"
    }
   ],
   "source": [
    "df['Registrar'].value_counts(normalize=True).head(10)*100"
   ]
  },
  {
   "cell_type": "markdown",
   "metadata": {},
   "source": [
    "Podobnie jak wcześniej wartości dzielimy na wyróżniające się, najpopularniejsze dwie pierwsze wartości 'GoDaddy.com LLC' oraz 'Network Solutions', a resztę dopisujemy do others."
   ]
  },
  {
   "cell_type": "code",
   "execution_count": 56,
   "metadata": {},
   "outputs": [],
   "source": [
    "registrar  = ['GoDaddy.com LLC', 'Network Solutions']\n",
    "df['Registrar'] = df['Registrar'].apply(lambda x: x if x in registrar else 'other')"
   ]
  },
  {
   "cell_type": "code",
   "execution_count": 57,
   "metadata": {},
   "outputs": [
    {
     "data": {
      "text/plain": [
       "other                411261\n",
       "GoDaddy.com LLC       48311\n",
       "Network Solutions     39051\n",
       "Name: Registrar, dtype: int64"
      ]
     },
     "execution_count": 57,
     "metadata": {},
     "output_type": "execute_result"
    }
   ],
   "source": [
    "df['Registrar'].value_counts()"
   ]
  },
  {
   "cell_type": "markdown",
   "metadata": {},
   "source": [
    "Rozdzielamy kategorie na kolumny."
   ]
  },
  {
   "cell_type": "code",
   "execution_count": 58,
   "metadata": {},
   "outputs": [],
   "source": [
    "df = pd.concat([df, pd.get_dummies(df['Registrar']).rename(columns=lambda x: f'Registrar_{x}')], axis=1)\n",
    "df = df.drop(['Registrar'], axis = 1)"
   ]
  },
  {
   "cell_type": "code",
   "execution_count": 59,
   "metadata": {},
   "outputs": [
    {
     "data": {
      "text/plain": [
       " LLC                                       10.065068\n",
       "GoDaddy.com LLC                             4.577097\n",
       " Ltd.                                       2.027451\n",
       "PDR Ltd. d/b/a PublicDomainRegistry.com     0.355704\n",
       "Ltd.                                        0.277485\n",
       " Inc                                        0.276078\n",
       "CSC CORPORATE DOMAINS inc.                  0.234455\n",
       "Inc.                                        0.204494\n",
       "google                                      0.203087\n",
       "GRANSY S.R.O D/B/A SUBREG.CZ                0.197457\n",
       "Name: sld, dtype: float64"
      ]
     },
     "execution_count": 59,
     "metadata": {},
     "output_type": "execute_result"
    }
   ],
   "source": [
    "df['sld'].value_counts(normalize=True).head(10)*100"
   ]
  },
  {
   "cell_type": "code",
   "execution_count": 60,
   "metadata": {},
   "outputs": [],
   "source": [
    "sld  = [' LLC', 'GoDaddy.com LLC', ' Ltd.']\n",
    "df['sld'] = df['sld'].apply(lambda x: x if x in sld else 'other')"
   ]
  },
  {
   "cell_type": "code",
   "execution_count": 61,
   "metadata": {},
   "outputs": [
    {
     "data": {
      "text/plain": [
       "other              415721\n",
       " LLC                50056\n",
       "GoDaddy.com LLC     22763\n",
       " Ltd.               10083\n",
       "Name: sld, dtype: int64"
      ]
     },
     "execution_count": 61,
     "metadata": {},
     "output_type": "execute_result"
    }
   ],
   "source": [
    "df['sld'].value_counts()"
   ]
  },
  {
   "cell_type": "markdown",
   "metadata": {},
   "source": [
    "Można tę kolumnę dokładniej zmienić ponieważ widać, że niektóre wartości to to samo, tylko inaczej zapisane np. ' LLC', 'LLC'. W tym przypadku warto byłoby dokładniej przejrzeć wartości i połączyć ze sobą te które się da."
   ]
  },
  {
   "cell_type": "code",
   "execution_count": 62,
   "metadata": {},
   "outputs": [],
   "source": [
    "df = pd.concat([df, pd.get_dummies(df['sld']).rename(columns=lambda x: f'SLD_{x}')], axis=1)\n",
    "df = df.drop(['sld'], axis = 1)"
   ]
  },
  {
   "cell_type": "code",
   "execution_count": 63,
   "metadata": {},
   "outputs": [
    {
     "data": {
      "text/plain": [
       "array(['8.0', '4.0', nan, ..., 38.0, 13.0, 28.0], dtype=object)"
      ]
     },
     "execution_count": 63,
     "metadata": {},
     "output_type": "execute_result"
    }
   ],
   "source": [
    "df['Name_Server_Count'].unique()"
   ]
  },
  {
   "cell_type": "code",
   "execution_count": 64,
   "metadata": {},
   "outputs": [],
   "source": [
    "def try_convert_to_float(value):\n",
    "    try:\n",
    "        value = float(value)\n",
    "        return value\n",
    "    except (ValueError, TypeError):\n",
    "        return None \n",
    "\n",
    "df['Name_Server_Count'] = df['Name_Server_Count'].apply(try_convert_to_float)"
   ]
  },
  {
   "cell_type": "code",
   "execution_count": 65,
   "metadata": {},
   "outputs": [
    {
     "data": {
      "text/plain": [
       "153179"
      ]
     },
     "execution_count": 65,
     "metadata": {},
     "output_type": "execute_result"
    }
   ],
   "source": [
    "df['Name_Server_Count'].isna().sum()"
   ]
  },
  {
   "cell_type": "markdown",
   "metadata": {},
   "source": [
    "Uzupełniamy brakujące dane medianą z kolumny."
   ]
  },
  {
   "cell_type": "code",
   "execution_count": 66,
   "metadata": {},
   "outputs": [],
   "source": [
    "df['Name_Server_Count'].fillna(df['Name_Server_Count'].median(), inplace=True)"
   ]
  },
  {
   "cell_type": "code",
   "execution_count": 67,
   "metadata": {},
   "outputs": [
    {
     "data": {
      "text/plain": [
       "[('qq.com', 86), ('vk.com', 86)]                       17.466503\n",
       "[('facebook.com', 86), ('twitter.com', 86)]            11.583702\n",
       "[('google.com', 86), ('apple.com', 86)]                 6.744976\n",
       "0                                                       6.436326\n",
       "[('apple.com', 86), ('adobe.com', 86)]                  3.869858\n",
       "[('twitter.com', 86), ('google.com', 86)]               2.759199\n",
       "[('w3.org', 86), ('creativecommons.org', 86)]           2.403620\n",
       "[('wordpress.org', 86), ('wikipedia.org', 86)]          2.356490\n",
       "[('w3.org', 86), ('npr.org', 86)]                       2.068898\n",
       "[('t.co', 86), ('bbc.co.uk', 86)]                       1.886997\n",
       "[('php.net', 86), ('a8.net', 86)]                       1.483084\n",
       "[('t.co', 90), ('qq.com', 86)]                          1.262477\n",
       "[('facebook.com', 86), ('instagram.com', 86)]           1.121890\n",
       "[('w3.org', 86), ('mozilla.org', 86)]                   1.119082\n",
       "[('mail.ru', 86), ('ok.ru', 86)]                        0.965860\n",
       "[('miitbeian.gov.cn', 86), ('miibeian.gov.cn', 86)]     0.938785\n",
       "[('t.co', 90), ('facebook.com', 86)]                    0.861773\n",
       "[('slideshare.net', 86), ('doubleclick.net', 86)]       0.734222\n",
       "[('google.de', 86), ('e-recht24.de', 86)]               0.709354\n",
       "[('yandex.ru', 86), ('mail.ru', 86)]                    0.705343\n",
       "Name: typos, dtype: float64"
      ]
     },
     "execution_count": 67,
     "metadata": {},
     "output_type": "execute_result"
    }
   ],
   "source": [
    "df['typos'].value_counts(normalize=True).head(20)*100"
   ]
  },
  {
   "cell_type": "code",
   "execution_count": 68,
   "metadata": {},
   "outputs": [],
   "source": [
    "popular_typos = df['typos'].str.extract(r\"\\('([^']+)', \\d+\\)\").stack().value_counts().head(15).index"
   ]
  },
  {
   "cell_type": "code",
   "execution_count": 69,
   "metadata": {},
   "outputs": [
    {
     "data": {
      "text/plain": [
       "Index(['qq.com', 'facebook.com', 't.co', 'google.com', 'w3.org', 'apple.com',\n",
       "       'twitter.com', 'wordpress.org', 'g.co', 'php.net', 'google.de',\n",
       "       'mail.ru', 'cpanel.net', 'miitbeian.gov.cn', 'yandex.ru'],\n",
       "      dtype='object')"
      ]
     },
     "execution_count": 69,
     "metadata": {},
     "output_type": "execute_result"
    }
   ],
   "source": [
    "popular_typos"
   ]
  },
  {
   "cell_type": "code",
   "execution_count": 70,
   "metadata": {},
   "outputs": [],
   "source": [
    "for string in popular_typos:\n",
    "    column_name = 'typos_' + string\n",
    "    df[column_name] = df['typos'].str.contains(string).astype(int)\n",
    "\n",
    "df.drop(columns=['typos'], inplace=True)"
   ]
  },
  {
   "cell_type": "code",
   "execution_count": 71,
   "metadata": {},
   "outputs": [
    {
     "data": {
      "text/plain": [
       "2gram                        181\n",
       "1gram                         22\n",
       "Name_Server_Count              0\n",
       "Creation_Year_2015-now         0\n",
       "Creation_Year_2009-2014        0\n",
       "Creation_Year_2003-2008        0\n",
       "Creation_Year_1997-2002        0\n",
       "Creation_Year_before 1996      0\n",
       "IP_Class_Invalid IP            0\n",
       "IP_Class_Class C               0\n",
       "IP_Class_Class B               0\n",
       "IP_Class_Class A               0\n",
       "Label                          0\n",
       "Page_Rank                      0\n",
       "typos_yandex.ru                0\n",
       "dtype: int64"
      ]
     },
     "execution_count": 71,
     "metadata": {},
     "output_type": "execute_result"
    }
   ],
   "source": [
    "df.isna().sum().sort_values(ascending=False).head(15)"
   ]
  },
  {
   "cell_type": "code",
   "execution_count": 72,
   "metadata": {},
   "outputs": [
    {
     "data": {
      "text/plain": [
       "array([\"['g', 'o', 'o', 'g', 'l', 'e']\",\n",
       "       \"['f', 'a', 'c', 'e', 'b', 'o', 'o', 'k']\",\n",
       "       \"['y', 'o', 'u', 't', 'u', 'b', 'e']\", ...,\n",
       "       \"['n', 'a', 'v', 'e', 'e', 'n', 'm', 'e', 'c', 'h', 'a', 'n', 'i', 'c', 'a', 'l']\",\n",
       "       \"['s', 't', 'e', 'f', 'a', 'n', 'i', 'e', '-', 'b', 'o', 'l', 'e', 'm', 'a', 'n', 't']\",\n",
       "       \"['a', 's', 'a', 'm', 'n', 'e', 't']\"], dtype=object)"
      ]
     },
     "execution_count": 72,
     "metadata": {},
     "output_type": "execute_result"
    }
   ],
   "source": [
    "df['1gram'].unique()"
   ]
  },
  {
   "cell_type": "code",
   "execution_count": 73,
   "metadata": {},
   "outputs": [
    {
     "data": {
      "text/plain": [
       "array([\"['go', 'oo', 'og', 'gl', 'le']\",\n",
       "       \"['fa', 'ac', 'ce', 'eb', 'bo', 'oo', 'ok']\",\n",
       "       \"['yo', 'ou', 'ut', 'tu', 'ub', 'be']\", ...,\n",
       "       \"['na', 'av', 've', 'ee', 'en', 'nm', 'me', 'ec', 'ch', 'ha', 'an', 'ni', 'ic', 'ca', 'al']\",\n",
       "       \"['st', 'te', 'ef', 'fa', 'an', 'ni', 'ie', 'e-', '-b', 'bo', 'ol', 'le', 'em', 'ma', 'an', 'nt']\",\n",
       "       \"['as', 'sa', 'am', 'mn', 'ne', 'et']\"], dtype=object)"
      ]
     },
     "execution_count": 73,
     "metadata": {},
     "output_type": "execute_result"
    }
   ],
   "source": [
    "df['2gram'].unique()"
   ]
  },
  {
   "cell_type": "code",
   "execution_count": 74,
   "metadata": {},
   "outputs": [
    {
     "data": {
      "text/plain": [
       "array([\"['goo', 'oog', 'ogl', 'gle']\",\n",
       "       \"['fac', 'ace', 'ceb', 'ebo', 'boo', 'ook']\",\n",
       "       \"['you', 'out', 'utu', 'tub', 'ube']\", ...,\n",
       "       \"['nav', 'ave', 'vee', 'een', 'enm', 'nme', 'mec', 'ech', 'cha', 'han', 'ani', 'nic', 'ica', 'cal']\",\n",
       "       \"['ste', 'tef', 'efa', 'fan', 'ani', 'nie', 'ie-', 'e-b', '-bo', 'bol', 'ole', 'lem', 'ema', 'man', 'ant']\",\n",
       "       \"['asa', 'sam', 'amn', 'mne', 'net']\"], dtype=object)"
      ]
     },
     "execution_count": 74,
     "metadata": {},
     "output_type": "execute_result"
    }
   ],
   "source": [
    "df['3gram'].unique()"
   ]
  },
  {
   "cell_type": "code",
   "execution_count": 75,
   "metadata": {},
   "outputs": [
    {
     "data": {
      "text/plain": [
       "array([\"defaultdict(<class 'int'>, {'e': 1, 'o': 2, 'g': 2, 'l': 1})\",\n",
       "       \"defaultdict(<class 'int'>, {'e': 1, 'o': 2, 'w': 3, 'l': 1, 'g': 2})\",\n",
       "       \"defaultdict(<class 'int'>, {'e': 1, 'c': 1, 'o': 2, 'f': 1, 'k': 1, 'a': 1, 'b': 1})\",\n",
       "       ...,\n",
       "       \"defaultdict(<class 'int'>, {'d': 1, 'n': 2, 'r': 2, 'w': 2, 'a': 1, 'l': 1, 'v': 1, 't': 1, 'i': 2, 'b': 1, 's': 1, 'h': 1, 'e': 5, 'o': 2, '0': 3, 'p': 3, 'f': 2})\",\n",
       "       \"defaultdict(<class 'int'>, {'-': 1, 'n': 2, 'm': 1, 'a': 2, 'l': 1, 't': 2, 'i': 1, 'b': 1, 's': 1, 'e': 3, 'o': 1, 'f': 1})\",\n",
       "       \"defaultdict(<class 'int'>, {'t': 1, 'n': 1, 'a': 2, 'm': 1, 's': 1, 'b': 1, 'w': 1, 'e': 2})\"],\n",
       "      dtype=object)"
      ]
     },
     "execution_count": 75,
     "metadata": {},
     "output_type": "execute_result"
    }
   ],
   "source": [
    "df['char_distribution'].unique()"
   ]
  },
  {
   "cell_type": "markdown",
   "metadata": {},
   "source": [
    "Przy większej ilości czasu i bardziej dokładnym etapie pre-processingu danych można zastanowić się w kolumnach 1gram, 2gram, 3gram nad poszukaniem najczęściej występujących stringów w listach i utworzyć kolumny z kategoriamy z przypisaniem wartości 0 lub 1. Największy sens miało by to prawdopodobnie w kolumnie 1gram, ponieważ jest tam najmniej unikalnych wartości - tyle ile liter w alfabecie - gorzej w przypadku 2gram i 3gram, ponieważ jest tam więcej różnych wartości, które mogą się nie powtarzać często. Podobnie w kolumnie char_distribution, choć po użyciu kolumny 1gram może być ona zbędna. "
   ]
  },
  {
   "cell_type": "code",
   "execution_count": 76,
   "metadata": {},
   "outputs": [],
   "source": [
    "df = df.drop(['char_distribution', '1gram', '2gram', '3gram'],axis=1)"
   ]
  },
  {
   "cell_type": "markdown",
   "metadata": {},
   "source": [
    "Zapisujemy plik csv w osobnym pliku."
   ]
  },
  {
   "cell_type": "code",
   "execution_count": 77,
   "metadata": {},
   "outputs": [],
   "source": [
    "df.to_csv('Cleaned_data.csv', sep=',', index=False, encoding='utf-8')"
   ]
  }
 ],
 "metadata": {
  "kernelspec": {
   "display_name": "Python 3",
   "language": "python",
   "name": "python3"
  },
  "language_info": {
   "codemirror_mode": {
    "name": "ipython",
    "version": 3
   },
   "file_extension": ".py",
   "mimetype": "text/x-python",
   "name": "python",
   "nbconvert_exporter": "python",
   "pygments_lexer": "ipython3",
   "version": "3.8.5"
  }
 },
 "nbformat": 4,
 "nbformat_minor": 4
}
